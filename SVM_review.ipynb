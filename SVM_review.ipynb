{
 "cells": [
  {
   "cell_type": "markdown",
   "metadata": {},
   "source": [
    "# Import các thư viện"
   ]
  },
  {
   "cell_type": "code",
   "execution_count": 54,
   "metadata": {},
   "outputs": [],
   "source": [
    "import pandas as pd\n",
    "import numpy as np"
   ]
  },
  {
   "cell_type": "markdown",
   "metadata": {},
   "source": [
    "# Đọc dữ liệu"
   ]
  },
  {
   "cell_type": "code",
   "execution_count": 55,
   "metadata": {},
   "outputs": [
    {
     "data": {
      "text/html": [
       "<div>\n",
       "<style scoped>\n",
       "    .dataframe tbody tr th:only-of-type {\n",
       "        vertical-align: middle;\n",
       "    }\n",
       "\n",
       "    .dataframe tbody tr th {\n",
       "        vertical-align: top;\n",
       "    }\n",
       "\n",
       "    .dataframe thead th {\n",
       "        text-align: right;\n",
       "    }\n",
       "</style>\n",
       "<table border=\"1\" class=\"dataframe\">\n",
       "  <thead>\n",
       "    <tr style=\"text-align: right;\">\n",
       "      <th></th>\n",
       "      <th>Reviewer's name</th>\n",
       "      <th>Reviewer's id</th>\n",
       "      <th>Reviewer's address</th>\n",
       "      <th>Reviewer's contribution</th>\n",
       "      <th>Reviewer's rate</th>\n",
       "      <th>Reviewer's idea</th>\n",
       "      <th>Reviewer's content</th>\n",
       "      <th>Reviewer's whom and time</th>\n",
       "      <th>Reviewer's images</th>\n",
       "      <th>Reviewers's time feedback</th>\n",
       "      <th>Reviewer's place</th>\n",
       "      <th>url</th>\n",
       "      <th>Province</th>\n",
       "    </tr>\n",
       "  </thead>\n",
       "  <tbody>\n",
       "    <tr>\n",
       "      <th>0</th>\n",
       "      <td>Salomé C</td>\n",
       "      <td>/Profile/Exploration484844</td>\n",
       "      <td>Không có thông tin</td>\n",
       "      <td>2</td>\n",
       "      <td>5</td>\n",
       "      <td>LOVELY PERSON, GREAT WORK</td>\n",
       "      <td>Si comme moi vous fuyez les boutiques d'Hoi An...</td>\n",
       "      <td>thg 3 năm 2019 • Một mình</td>\n",
       "      <td>0</td>\n",
       "      <td>5/24/2019</td>\n",
       "      <td>Hiệu Vải Mai Xuân</td>\n",
       "      <td>https://www.tripadvisor.com.vn/Attraction_Revi...</td>\n",
       "      <td>Quảng Nam</td>\n",
       "    </tr>\n",
       "    <tr>\n",
       "      <th>1</th>\n",
       "      <td>melissa m</td>\n",
       "      <td>/Profile/melissamJ2626QJ</td>\n",
       "      <td>Không có thông tin</td>\n",
       "      <td>6</td>\n",
       "      <td>5</td>\n",
       "      <td>Love love love Mai’s shop</td>\n",
       "      <td>I went to many many shops in Hoi An interested...</td>\n",
       "      <td>thg 3 năm 2019 • Cặp đôi</td>\n",
       "      <td>0</td>\n",
       "      <td>3/19/2019</td>\n",
       "      <td>Hiệu Vải Mai Xuân</td>\n",
       "      <td>https://www.tripadvisor.com.vn/Attraction_Revi...</td>\n",
       "      <td>Quảng Nam</td>\n",
       "    </tr>\n",
       "    <tr>\n",
       "      <th>2</th>\n",
       "      <td>Yvonne B</td>\n",
       "      <td>/Profile/YvonneB2988</td>\n",
       "      <td>Buelach, Thụy Sỹ</td>\n",
       "      <td>9</td>\n",
       "      <td>5</td>\n",
       "      <td>Toller Preis für top Qualität</td>\n",
       "      <td>Ich habe eine schöne Jacke zu einem sehr faire...</td>\n",
       "      <td>thg 2 năm 2019 • Cặp đôi</td>\n",
       "      <td>0</td>\n",
       "      <td>2/17/2019</td>\n",
       "      <td>Hiệu Vải Mai Xuân</td>\n",
       "      <td>https://www.tripadvisor.com.vn/Attraction_Revi...</td>\n",
       "      <td>Quảng Nam</td>\n",
       "    </tr>\n",
       "    <tr>\n",
       "      <th>3</th>\n",
       "      <td>Happy Go L</td>\n",
       "      <td>/Profile/happyg0l</td>\n",
       "      <td>Không có thông tin</td>\n",
       "      <td>10</td>\n",
       "      <td>5</td>\n",
       "      <td>Mai will take great care or you for sure!</td>\n",
       "      <td>Amongst the hundreds upon hundreds of tailor s...</td>\n",
       "      <td>thg 1 năm 2019 • Cặp đôi</td>\n",
       "      <td>0</td>\n",
       "      <td>1/16/2019</td>\n",
       "      <td>Hiệu Vải Mai Xuân</td>\n",
       "      <td>https://www.tripadvisor.com.vn/Attraction_Revi...</td>\n",
       "      <td>Quảng Nam</td>\n",
       "    </tr>\n",
       "    <tr>\n",
       "      <th>4</th>\n",
       "      <td>Purple Ninja</td>\n",
       "      <td>/Profile/PurpleNinja1983</td>\n",
       "      <td>Singapore, Singapore</td>\n",
       "      <td>157</td>\n",
       "      <td>5</td>\n",
       "      <td>Great price for great quality</td>\n",
       "      <td>I tried to fit a ready to wear dresses off the...</td>\n",
       "      <td>thg 9 năm 2018 • Một mình</td>\n",
       "      <td>0</td>\n",
       "      <td>10/1/2018</td>\n",
       "      <td>Hiệu Vải Mai Xuân</td>\n",
       "      <td>https://www.tripadvisor.com.vn/Attraction_Revi...</td>\n",
       "      <td>Quảng Nam</td>\n",
       "    </tr>\n",
       "  </tbody>\n",
       "</table>\n",
       "</div>"
      ],
      "text/plain": [
       "  Reviewer's name               Reviewer's id    Reviewer's address  \\\n",
       "0        Salomé C  /Profile/Exploration484844    Không có thông tin   \n",
       "1       melissa m    /Profile/melissamJ2626QJ    Không có thông tin   \n",
       "2        Yvonne B        /Profile/YvonneB2988      Buelach, Thụy Sỹ   \n",
       "3      Happy Go L           /Profile/happyg0l    Không có thông tin   \n",
       "4    Purple Ninja    /Profile/PurpleNinja1983  Singapore, Singapore   \n",
       "\n",
       "   Reviewer's contribution  Reviewer's rate  \\\n",
       "0                        2                5   \n",
       "1                        6                5   \n",
       "2                        9                5   \n",
       "3                       10                5   \n",
       "4                      157                5   \n",
       "\n",
       "                             Reviewer's idea  \\\n",
       "0                  LOVELY PERSON, GREAT WORK   \n",
       "1                  Love love love Mai’s shop   \n",
       "2              Toller Preis für top Qualität   \n",
       "3  Mai will take great care or you for sure!   \n",
       "4              Great price for great quality   \n",
       "\n",
       "                                  Reviewer's content  \\\n",
       "0  Si comme moi vous fuyez les boutiques d'Hoi An...   \n",
       "1  I went to many many shops in Hoi An interested...   \n",
       "2  Ich habe eine schöne Jacke zu einem sehr faire...   \n",
       "3  Amongst the hundreds upon hundreds of tailor s...   \n",
       "4  I tried to fit a ready to wear dresses off the...   \n",
       "\n",
       "    Reviewer's whom and time  Reviewer's images Reviewers's time feedback  \\\n",
       "0  thg 3 năm 2019 • Một mình                  0                 5/24/2019   \n",
       "1  thg 3 năm 2019 • Cặp đôi                  0                 3/19/2019   \n",
       "2  thg 2 năm 2019 • Cặp đôi                  0                 2/17/2019   \n",
       "3  thg 1 năm 2019 • Cặp đôi                  0                 1/16/2019   \n",
       "4  thg 9 năm 2018 • Một mình                  0                 10/1/2018   \n",
       "\n",
       "    Reviewer's place                                                url  \\\n",
       "0  Hiệu Vải Mai Xuân  https://www.tripadvisor.com.vn/Attraction_Revi...   \n",
       "1  Hiệu Vải Mai Xuân  https://www.tripadvisor.com.vn/Attraction_Revi...   \n",
       "2  Hiệu Vải Mai Xuân  https://www.tripadvisor.com.vn/Attraction_Revi...   \n",
       "3  Hiệu Vải Mai Xuân  https://www.tripadvisor.com.vn/Attraction_Revi...   \n",
       "4  Hiệu Vải Mai Xuân  https://www.tripadvisor.com.vn/Attraction_Revi...   \n",
       "\n",
       "    Province  \n",
       "0  Quảng Nam  \n",
       "1  Quảng Nam  \n",
       "2  Quảng Nam  \n",
       "3  Quảng Nam  \n",
       "4  Quảng Nam  "
      ]
     },
     "execution_count": 55,
     "metadata": {},
     "output_type": "execute_result"
    }
   ],
   "source": [
    "# read data\n",
    "df_rv = pd.read_csv(\"reviewQN.csv\")\n",
    "df_rv.head()"
   ]
  },
  {
   "cell_type": "markdown",
   "metadata": {},
   "source": [
    "# Làm sạch dữ liệu"
   ]
  },
  {
   "cell_type": "code",
   "execution_count": 56,
   "metadata": {},
   "outputs": [
    {
     "data": {
      "text/html": [
       "<div>\n",
       "<style scoped>\n",
       "    .dataframe tbody tr th:only-of-type {\n",
       "        vertical-align: middle;\n",
       "    }\n",
       "\n",
       "    .dataframe tbody tr th {\n",
       "        vertical-align: top;\n",
       "    }\n",
       "\n",
       "    .dataframe thead th {\n",
       "        text-align: right;\n",
       "    }\n",
       "</style>\n",
       "<table border=\"1\" class=\"dataframe\">\n",
       "  <thead>\n",
       "    <tr style=\"text-align: right;\">\n",
       "      <th></th>\n",
       "      <th>Review</th>\n",
       "      <th>Reviewer's rate</th>\n",
       "    </tr>\n",
       "  </thead>\n",
       "  <tbody>\n",
       "    <tr>\n",
       "      <th>0</th>\n",
       "      <td>LOVELY PERSON, GREAT WORKSi comme moi vous fuy...</td>\n",
       "      <td>5</td>\n",
       "    </tr>\n",
       "    <tr>\n",
       "      <th>1</th>\n",
       "      <td>Love love love Mai’s shopI went to many many s...</td>\n",
       "      <td>5</td>\n",
       "    </tr>\n",
       "    <tr>\n",
       "      <th>2</th>\n",
       "      <td>Toller Preis für top QualitätIch habe eine sch...</td>\n",
       "      <td>5</td>\n",
       "    </tr>\n",
       "    <tr>\n",
       "      <th>3</th>\n",
       "      <td>Mai will take great care or you for sure!Among...</td>\n",
       "      <td>5</td>\n",
       "    </tr>\n",
       "    <tr>\n",
       "      <th>4</th>\n",
       "      <td>Great price for great qualityI tried to fit a ...</td>\n",
       "      <td>5</td>\n",
       "    </tr>\n",
       "  </tbody>\n",
       "</table>\n",
       "</div>"
      ],
      "text/plain": [
       "                                              Review  Reviewer's rate\n",
       "0  LOVELY PERSON, GREAT WORKSi comme moi vous fuy...                5\n",
       "1  Love love love Mai’s shopI went to many many s...                5\n",
       "2  Toller Preis für top QualitätIch habe eine sch...                5\n",
       "3  Mai will take great care or you for sure!Among...                5\n",
       "4  Great price for great qualityI tried to fit a ...                5"
      ]
     },
     "execution_count": 56,
     "metadata": {},
     "output_type": "execute_result"
    }
   ],
   "source": [
    "# Làm sạch dữ liệu\n",
    "\n",
    "#Gộp 2 cột Reviewer's idea và \"Reviewer's content thành 1 cột tên là Review\n",
    "df_rv[\"Review\"] = df_rv[\"Reviewer's idea\"] + df_rv[\"Reviewer's content\"]\n",
    "#Chỉ lấy 2 cột dữ liệu Review và \"Reviewer's rate để phân tích\n",
    "df = df_rv[[\"Review\",\"Reviewer's rate\"]]\n",
    "df.head()"
   ]
  },
  {
   "cell_type": "code",
   "execution_count": 57,
   "metadata": {},
   "outputs": [
    {
     "data": {
      "text/plain": [
       "5    41942\n",
       "4    10096\n",
       "3     5755\n",
       "2     1425\n",
       "1      986\n",
       "Name: Reviewer's rate, dtype: int64"
      ]
     },
     "execution_count": 57,
     "metadata": {},
     "output_type": "execute_result"
    }
   ],
   "source": [
    "#Đếm xem số lượng đánh giá của các sao\n",
    "df[\"Reviewer's rate\"].value_counts()"
   ]
  },
  {
   "cell_type": "code",
   "execution_count": 58,
   "metadata": {},
   "outputs": [],
   "source": [
    "#Những bình luận có đánh giá dưới 3 sao là Không hài lòng\n",
    "df_neg = df.loc[df[\"Reviewer's rate\"] < 3]\n",
    "df_neg = df_neg.reset_index(drop=True)"
   ]
  },
  {
   "cell_type": "code",
   "execution_count": 59,
   "metadata": {},
   "outputs": [],
   "source": [
    "#Những bình luận có đánh giá 5 sao là Hài lòng\n",
    "df_five = df.loc[df[\"Reviewer's rate\"] == 5]\n",
    "df_five = df_five.reset_index(drop=True)"
   ]
  },
  {
   "cell_type": "code",
   "execution_count": 60,
   "metadata": {},
   "outputs": [
    {
     "name": "stdout",
     "output_type": "stream",
     "text": [
      "2411\n",
      "41942\n"
     ]
    }
   ],
   "source": [
    "print(len(df_neg))\n",
    "print(len(df_five))"
   ]
  },
  {
   "cell_type": "markdown",
   "metadata": {},
   "source": [
    "Ta thấy rằng số lượng comment hài lòng và không hài lòng quá chênh lệch nên không thể tiến hành train model được. Do đó phải chia lại dữ liệu sao cho bằng nhau"
   ]
  },
  {
   "cell_type": "code",
   "execution_count": 61,
   "metadata": {},
   "outputs": [
    {
     "data": {
      "text/plain": [
       "2412"
      ]
     },
     "execution_count": 61,
     "metadata": {},
     "output_type": "execute_result"
    }
   ],
   "source": [
    "#Số lượng comment hài lòng bằng số lượng comment không hài lòng\n",
    "df_pos = df_five.loc[:len(df_neg)]\n",
    "len(df_pos)"
   ]
  },
  {
   "cell_type": "code",
   "execution_count": 67,
   "metadata": {},
   "outputs": [
    {
     "name": "stdout",
     "output_type": "stream",
     "text": [
      "4823\n"
     ]
    },
    {
     "data": {
      "text/html": [
       "<div>\n",
       "<style scoped>\n",
       "    .dataframe tbody tr th:only-of-type {\n",
       "        vertical-align: middle;\n",
       "    }\n",
       "\n",
       "    .dataframe tbody tr th {\n",
       "        vertical-align: top;\n",
       "    }\n",
       "\n",
       "    .dataframe thead th {\n",
       "        text-align: right;\n",
       "    }\n",
       "</style>\n",
       "<table border=\"1\" class=\"dataframe\">\n",
       "  <thead>\n",
       "    <tr style=\"text-align: right;\">\n",
       "      <th></th>\n",
       "      <th>Review</th>\n",
       "      <th>Reviewer's rate</th>\n",
       "    </tr>\n",
       "  </thead>\n",
       "  <tbody>\n",
       "    <tr>\n",
       "      <th>1112</th>\n",
       "      <td>A sad and angry customer.Unfortunately I will ...</td>\n",
       "      <td>1</td>\n",
       "    </tr>\n",
       "    <tr>\n",
       "      <th>2341</th>\n",
       "      <td>DisappointingVisited this bar at 10pm hoping i...</td>\n",
       "      <td>1</td>\n",
       "    </tr>\n",
       "    <tr>\n",
       "      <th>2136</th>\n",
       "      <td>臭いし。確かに名物です。一度は見るべきでしょう。が、通行のたびにチケットを要求されるし、とに...</td>\n",
       "      <td>2</td>\n",
       "    </tr>\n",
       "    <tr>\n",
       "      <th>4650</th>\n",
       "      <td>Eva and julia여기 리틀리버사이드에서 묵는동안 무료 스파사용을 하였는데 편...</td>\n",
       "      <td>5</td>\n",
       "    </tr>\n",
       "    <tr>\n",
       "      <th>657</th>\n",
       "      <td>You could give it a missWe walked over the bri...</td>\n",
       "      <td>1</td>\n",
       "    </tr>\n",
       "  </tbody>\n",
       "</table>\n",
       "</div>"
      ],
      "text/plain": [
       "                                                 Review  Reviewer's rate\n",
       "1112  A sad and angry customer.Unfortunately I will ...                1\n",
       "2341  DisappointingVisited this bar at 10pm hoping i...                1\n",
       "2136  臭いし。確かに名物です。一度は見るべきでしょう。が、通行のたびにチケットを要求されるし、とに...                2\n",
       "4650  Eva and julia여기 리틀리버사이드에서 묵는동안 무료 스파사용을 하였는데 편...                5\n",
       "657   You could give it a missWe walked over the bri...                1"
      ]
     },
     "execution_count": 67,
     "metadata": {},
     "output_type": "execute_result"
    }
   ],
   "source": [
    "#Nối 2 cột lại với nhau\n",
    "df_all = pd.concat([df_neg, df_pos], axis = 0)\n",
    "df_all = df_all.reset_index(drop=True)\n",
    "print(len(df_all))\n",
    "df_all.sample(5)"
   ]
  },
  {
   "cell_type": "markdown",
   "metadata": {},
   "source": [
    "# Tạo cột Sentiments (Cảm nhận của khách hàng)"
   ]
  },
  {
   "cell_type": "code",
   "execution_count": 73,
   "metadata": {},
   "outputs": [
    {
     "data": {
      "text/html": [
       "<div>\n",
       "<style scoped>\n",
       "    .dataframe tbody tr th:only-of-type {\n",
       "        vertical-align: middle;\n",
       "    }\n",
       "\n",
       "    .dataframe tbody tr th {\n",
       "        vertical-align: top;\n",
       "    }\n",
       "\n",
       "    .dataframe thead th {\n",
       "        text-align: right;\n",
       "    }\n",
       "</style>\n",
       "<table border=\"1\" class=\"dataframe\">\n",
       "  <thead>\n",
       "    <tr style=\"text-align: right;\">\n",
       "      <th></th>\n",
       "      <th>Review</th>\n",
       "      <th>Reviewer's rate</th>\n",
       "      <th>Sentiments</th>\n",
       "    </tr>\n",
       "  </thead>\n",
       "  <tbody>\n",
       "    <tr>\n",
       "      <th>1979</th>\n",
       "      <td>Vad är grejen?En tråkig och ful liten bro. Vet...</td>\n",
       "      <td>1</td>\n",
       "      <td>Không hài lòng</td>\n",
       "    </tr>\n",
       "    <tr>\n",
       "      <th>329</th>\n",
       "      <td>Slightly disappointingHad high hopes for the n...</td>\n",
       "      <td>2</td>\n",
       "      <td>Không hài lòng</td>\n",
       "    </tr>\n",
       "    <tr>\n",
       "      <th>2605</th>\n",
       "      <td>One Stop Shop!This woman owned business goes o...</td>\n",
       "      <td>5</td>\n",
       "      <td>Hài lòng</td>\n",
       "    </tr>\n",
       "    <tr>\n",
       "      <th>3619</th>\n",
       "      <td>Best Live Music Venue in Hoi AnWe visited Fend...</td>\n",
       "      <td>5</td>\n",
       "      <td>Hài lòng</td>\n",
       "    </tr>\n",
       "    <tr>\n",
       "      <th>434</th>\n",
       "      <td>Musea om even doorheen te lopen.Wel een leuk m...</td>\n",
       "      <td>2</td>\n",
       "      <td>Không hài lòng</td>\n",
       "    </tr>\n",
       "  </tbody>\n",
       "</table>\n",
       "</div>"
      ],
      "text/plain": [
       "                                                 Review  Reviewer's rate  \\\n",
       "1979  Vad är grejen?En tråkig och ful liten bro. Vet...                1   \n",
       "329   Slightly disappointingHad high hopes for the n...                2   \n",
       "2605  One Stop Shop!This woman owned business goes o...                5   \n",
       "3619  Best Live Music Venue in Hoi AnWe visited Fend...                5   \n",
       "434   Musea om even doorheen te lopen.Wel een leuk m...                2   \n",
       "\n",
       "          Sentiments  \n",
       "1979  Không hài lòng  \n",
       "329   Không hài lòng  \n",
       "2605        Hài lòng  \n",
       "3619        Hài lòng  \n",
       "434   Không hài lòng  "
      ]
     },
     "execution_count": 73,
     "metadata": {},
     "output_type": "execute_result"
    }
   ],
   "source": [
    "#Tạo cột Sentiments, nếu đánh giá 5 sao là Hài lòng và ngược lại là Không hài lòng\n",
    "df_all[\"Sentiments\"] = np.where(df_all[\"Reviewer's rate\"] == 5,\"Hài lòng\" ,\"Không hài lòng\")\n",
    "df_all.sample(5)"
   ]
  },
  {
   "cell_type": "code",
   "execution_count": 74,
   "metadata": {},
   "outputs": [
    {
     "data": {
      "text/html": [
       "<div>\n",
       "<style scoped>\n",
       "    .dataframe tbody tr th:only-of-type {\n",
       "        vertical-align: middle;\n",
       "    }\n",
       "\n",
       "    .dataframe tbody tr th {\n",
       "        vertical-align: top;\n",
       "    }\n",
       "\n",
       "    .dataframe thead th {\n",
       "        text-align: right;\n",
       "    }\n",
       "</style>\n",
       "<table border=\"1\" class=\"dataframe\">\n",
       "  <thead>\n",
       "    <tr style=\"text-align: right;\">\n",
       "      <th></th>\n",
       "      <th>Review</th>\n",
       "      <th>Reviewer's rate</th>\n",
       "      <th>Sentiments</th>\n",
       "    </tr>\n",
       "  </thead>\n",
       "  <tbody>\n",
       "    <tr>\n",
       "      <th>0</th>\n",
       "      <td>Great serviceI had a great manicure here. The ...</td>\n",
       "      <td>5</td>\n",
       "      <td>Hài lòng</td>\n",
       "    </tr>\n",
       "    <tr>\n",
       "      <th>1</th>\n",
       "      <td>Hoàn hảoCảm ơn các bạn làm móng đã cho tôi một...</td>\n",
       "      <td>5</td>\n",
       "      <td>Hài lòng</td>\n",
       "    </tr>\n",
       "    <tr>\n",
       "      <th>2</th>\n",
       "      <td>마사지받았어용ㅋ오오오오 짱 시원해요 !! 강추강추 가격도 좋음 호이안 오시거든 꼭 ...</td>\n",
       "      <td>5</td>\n",
       "      <td>Hài lòng</td>\n",
       "    </tr>\n",
       "    <tr>\n",
       "      <th>3</th>\n",
       "      <td>Spa niceThe best one in hoi an with body massa...</td>\n",
       "      <td>5</td>\n",
       "      <td>Hài lòng</td>\n",
       "    </tr>\n",
       "    <tr>\n",
       "      <th>4</th>\n",
       "      <td>Un timo si no sabes regatearDependienta muy ex...</td>\n",
       "      <td>1</td>\n",
       "      <td>Không hài lòng</td>\n",
       "    </tr>\n",
       "    <tr>\n",
       "      <th>5</th>\n",
       "      <td>Cobran para eso?Muy bonito pero no para pagar....</td>\n",
       "      <td>2</td>\n",
       "      <td>Không hài lòng</td>\n",
       "    </tr>\n",
       "    <tr>\n",
       "      <th>6</th>\n",
       "      <td>Terribly disappointed by the qualityI ordered ...</td>\n",
       "      <td>2</td>\n",
       "      <td>Không hài lòng</td>\n",
       "    </tr>\n",
       "    <tr>\n",
       "      <th>7</th>\n",
       "      <td>Great for tailor made suits and shirtsI splurg...</td>\n",
       "      <td>5</td>\n",
       "      <td>Hài lòng</td>\n",
       "    </tr>\n",
       "    <tr>\n",
       "      <th>8</th>\n",
       "      <td>Le bonheurC’est la première fois que je fais u...</td>\n",
       "      <td>5</td>\n",
       "      <td>Hài lòng</td>\n",
       "    </tr>\n",
       "    <tr>\n",
       "      <th>9</th>\n",
       "      <td>Отличный массаж!Отличный массаж! Рекомендую. О...</td>\n",
       "      <td>5</td>\n",
       "      <td>Hài lòng</td>\n",
       "    </tr>\n",
       "  </tbody>\n",
       "</table>\n",
       "</div>"
      ],
      "text/plain": [
       "                                              Review  Reviewer's rate  \\\n",
       "0  Great serviceI had a great manicure here. The ...                5   \n",
       "1  Hoàn hảoCảm ơn các bạn làm móng đã cho tôi một...                5   \n",
       "2  마사지받았어용ㅋ오오오오 짱 시원해요 !! 강추강추 가격도 좋음 호이안 오시거든 꼭 ...                5   \n",
       "3  Spa niceThe best one in hoi an with body massa...                5   \n",
       "4  Un timo si no sabes regatearDependienta muy ex...                1   \n",
       "5  Cobran para eso?Muy bonito pero no para pagar....                2   \n",
       "6  Terribly disappointed by the qualityI ordered ...                2   \n",
       "7  Great for tailor made suits and shirtsI splurg...                5   \n",
       "8  Le bonheurC’est la première fois que je fais u...                5   \n",
       "9  Отличный массаж!Отличный массаж! Рекомендую. О...                5   \n",
       "\n",
       "       Sentiments  \n",
       "0        Hài lòng  \n",
       "1        Hài lòng  \n",
       "2        Hài lòng  \n",
       "3        Hài lòng  \n",
       "4  Không hài lòng  \n",
       "5  Không hài lòng  \n",
       "6  Không hài lòng  \n",
       "7        Hài lòng  \n",
       "8        Hài lòng  \n",
       "9        Hài lòng  "
      ]
     },
     "execution_count": 74,
     "metadata": {},
     "output_type": "execute_result"
    }
   ],
   "source": [
    "df_all = df_all.sample(frac = 1)\n",
    "df_all = df_all.reset_index(drop=True)\n",
    "df_all.head(10)"
   ]
  },
  {
   "cell_type": "markdown",
   "metadata": {},
   "source": [
    "# Chia dữ liệu để train và test"
   ]
  },
  {
   "cell_type": "code",
   "execution_count": 80,
   "metadata": {},
   "outputs": [],
   "source": [
    "#Sử dụng thư viện train_test_split của sklearn để tự động chia dữ liệu\n",
    "from sklearn.model_selection import train_test_split\n",
    "x_train, x_test, y_train, y_test = train_test_split(df_all.Review, df_all.Sentiments)"
   ]
  },
  {
   "cell_type": "code",
   "execution_count": 81,
   "metadata": {},
   "outputs": [],
   "source": [
    "#Chuyển dữ liệu sang dạng chuẩn để train\n",
    "from sklearn.feature_extraction.text import CountVectorizer\n",
    "v = CountVectorizer()\n",
    "x_train_vec = v.fit_transform(x_train)\n",
    "x_test_vec = v.transform(x_test)"
   ]
  },
  {
   "cell_type": "markdown",
   "metadata": {},
   "source": [
    "# Sử dụng thuật toán phân lớp SVM (Support Vector Machine)"
   ]
  },
  {
   "cell_type": "code",
   "execution_count": 82,
   "metadata": {},
   "outputs": [
    {
     "data": {
      "text/plain": [
       "SVC(kernel='linear')"
      ]
     },
     "execution_count": 82,
     "metadata": {},
     "output_type": "execute_result"
    }
   ],
   "source": [
    "#Sử dụng thuật toán SVM để train dữ liệu\n",
    "from sklearn import svm\n",
    "clf_svm = svm.SVC(kernel=\"linear\")\n",
    "clf_svm.fit(x_train_vec, y_train)"
   ]
  },
  {
   "cell_type": "code",
   "execution_count": 83,
   "metadata": {},
   "outputs": [
    {
     "data": {
      "text/plain": [
       "0.9834162520729685"
      ]
     },
     "execution_count": 83,
     "metadata": {},
     "output_type": "execute_result"
    }
   ],
   "source": [
    "#Tính độ chính xác của model\n",
    "clf_svm.score(x_test_vec, y_test)"
   ]
  },
  {
   "cell_type": "code",
   "execution_count": 84,
   "metadata": {},
   "outputs": [
    {
     "data": {
      "text/plain": [
       "array([0.98363339, 0.98319328])"
      ]
     },
     "execution_count": 84,
     "metadata": {},
     "output_type": "execute_result"
    }
   ],
   "source": [
    "#Kiểm định f1\n",
    "from sklearn.metrics import f1_score\n",
    "f1_score(y_test, clf_svm.predict(x_test_vec),average=None)"
   ]
  },
  {
   "cell_type": "markdown",
   "metadata": {},
   "source": [
    "# Kết quả"
   ]
  },
  {
   "cell_type": "code",
   "execution_count": 85,
   "metadata": {},
   "outputs": [
    {
     "data": {
      "text/plain": [
       "array(['Hài lòng'], dtype=object)"
      ]
     },
     "execution_count": 85,
     "metadata": {},
     "output_type": "execute_result"
    }
   ],
   "source": [
    "rev = [\"This place was beautiful, cant wait to come back\"]\n",
    "rev_vec = v.transform(rev)\n",
    "clf_svm.predict(rev_vec)"
   ]
  },
  {
   "cell_type": "code",
   "execution_count": 86,
   "metadata": {},
   "outputs": [
    {
     "data": {
      "text/plain": [
       "array(['Không hài lòng'], dtype=object)"
      ]
     },
     "execution_count": 86,
     "metadata": {},
     "output_type": "execute_result"
    }
   ],
   "source": [
    "rev = [\"Absolutely hated this places. Horrible food\"]\n",
    "rev_vec = v.transform(rev)\n",
    "clf_svm.predict(rev_vec)"
   ]
  },
  {
   "cell_type": "code",
   "execution_count": 87,
   "metadata": {},
   "outputs": [
    {
     "data": {
      "text/plain": [
       "array(['Không hài lòng'], dtype=object)"
      ]
     },
     "execution_count": 87,
     "metadata": {},
     "output_type": "execute_result"
    }
   ],
   "source": [
    "rev = [\"Nơi này xấu quá\"]\n",
    "rev_vec = v.transform(rev)\n",
    "clf_svm.predict(rev_vec)"
   ]
  },
  {
   "cell_type": "code",
   "execution_count": 89,
   "metadata": {},
   "outputs": [
    {
     "data": {
      "text/plain": [
       "array(['Hài lòng'], dtype=object)"
      ]
     },
     "execution_count": 89,
     "metadata": {},
     "output_type": "execute_result"
    }
   ],
   "source": [
    "rev = [\"Đây là lần đầu tôi đến một nơi thú vị như vậy\"]\n",
    "rev_vec = v.transform(rev)\n",
    "clf_svm.predict(rev_vec)"
   ]
  }
 ],
 "metadata": {
  "interpreter": {
   "hash": "960f2ae499b536958d588fcafb5f9e40dd995fc898e4b79db932caf22756042a"
  },
  "kernelspec": {
   "display_name": "Python 3.9.7 ('base')",
   "language": "python",
   "name": "python3"
  },
  "language_info": {
   "codemirror_mode": {
    "name": "ipython",
    "version": 3
   },
   "file_extension": ".py",
   "mimetype": "text/x-python",
   "name": "python",
   "nbconvert_exporter": "python",
   "pygments_lexer": "ipython3",
   "version": "3.9.7"
  },
  "orig_nbformat": 4
 },
 "nbformat": 4,
 "nbformat_minor": 2
}
